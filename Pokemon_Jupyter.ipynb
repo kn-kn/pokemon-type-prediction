{
 "cells": [
  {
   "cell_type": "markdown",
   "metadata": {
    "nbpresent": {
     "id": "3561e198-2627-4e7d-95ee-513eb40be74a"
    },
    "slideshow": {
     "slide_type": "slide"
    }
   },
   "source": [
    "# Predicting Pokemon Types\n",
    "\n",
    "![Pokemon Logo](https://cdn.bulbagarden.net/upload/d/d2/Pok%C3%A9mon_logo_English.png)\n",
    "\n",
    "\n",
    "This project will focus on predicting Pokemon types based on supervised learning models. In particular, we will take advantage of the following:\n",
    "\n",
    "- Naive Bayes\n",
    "- Support Vector Machines\n",
    "- Random Forest\n",
    "\n",
    "In addition, the following will be utilized:\n",
    "\n",
    "- K-folds Cross Validation\n",
    "- Leave-one-out Cross Validation\n",
    "- Parameter Tuning with GridSearchCV"
   ]
  },
  {
   "cell_type": "markdown",
   "metadata": {
    "slideshow": {
     "slide_type": "subslide"
    }
   },
   "source": [
    "While this project is more of a learning and exploratory experience, a hypothesis I would like to test is:\n",
    "\n",
    "*The more computationally expensive it is to train a dataset, the better the predictive accuracy the test is*\n",
    "\n",
    "This is in relation to the various methods I will try above."
   ]
  },
  {
   "cell_type": "code",
   "execution_count": 1,
   "metadata": {
    "nbpresent": {
     "id": "bbeae428-bf7c-460a-b155-355ee50ff160"
    },
    "slideshow": {
     "slide_type": "skip"
    }
   },
   "outputs": [
    {
     "name": "stdout",
     "output_type": "stream",
     "text": [
      "Populating the interactive namespace from numpy and matplotlib\n"
     ]
    }
   ],
   "source": [
    "# Import initial libraries and settings\n",
    "import pandas as pd\n",
    "import numpy as np\n",
    "import os\n",
    "import seaborn as sns\n",
    "from IPython.core.display import Image, display\n",
    "\n",
    "import matplotlib.pyplot as plt\n",
    "%pylab inline\n",
    "\n",
    "pylab.rcParams['figure.figsize'] = (12.0, 11.0)"
   ]
  },
  {
   "cell_type": "code",
   "execution_count": 3,
   "metadata": {
    "collapsed": true,
    "nbpresent": {
     "id": "7013efd2-e9c6-4e56-8c48-84b7e99a5ae4"
    },
    "slideshow": {
     "slide_type": "skip"
    }
   },
   "outputs": [],
   "source": [
    "# Setting up my directory\n",
    "os.chdir('C:/Users/Kevin/Desktop/Dropbox/Dropbox/Brainstation - Project/')\n",
    "#os.chdir('C:/Users/knguyen/Dropbox/Brainstation - Project/')\n",
    "\n",
    "# Import data\n",
    "df = pd.read_csv('Pokemon.csv')\n",
    "df2 = pd.read_csv('pokemon_stats.csv')"
   ]
  },
  {
   "cell_type": "markdown",
   "metadata": {
    "nbpresent": {
     "id": "419e5d3c-5843-4b4c-a7f7-d1fa2d8df329"
    },
    "slideshow": {
     "slide_type": "slide"
    }
   },
   "source": [
    "# Data Cleaning and Merging"
   ]
  },
  {
   "cell_type": "markdown",
   "metadata": {
    "nbpresent": {
     "id": "17356041-c5ec-45c2-9605-d1d773eddaf1"
    },
    "slideshow": {
     "slide_type": "fragment"
    }
   },
   "source": [
    "As there are two different datasets, we need to merge them. Unfortunately there are some naming discrepancies between them that need to be fixed, some examples include:\n",
    "\n",
    "- Mr. Mime vs Mr-Mime\n",
    "- Farfetch'd vs. Farfetchd\n",
    "- Nidoran♀ vs. Nidoran-f"
   ]
  },
  {
   "cell_type": "code",
   "execution_count": 4,
   "metadata": {
    "collapsed": true,
    "nbpresent": {
     "id": "4d5cb22e-c41b-4200-b73e-b07c5d381fe3"
    },
    "slideshow": {
     "slide_type": "fragment"
    }
   },
   "outputs": [],
   "source": [
    "# To ensure consistency between datasets\n",
    "df['Name'] = df['Name'].str.lower()\n",
    "\n",
    "# Fix name issues between datasets\n",
    "df = df.replace({'Name': {'nidoran♀': 'nidoran-f', 'nidoran♂': 'nidoran-m', \"farfetch'd\": 'farfetchd',\n",
    "                                'mr. mime': 'mr-mime', 'deoxysnormal forme': 'deoxys-normal', 'wormadamplant cloak': 'wormadam-plant',\n",
    "                                'mime jr.': 'mime-jr', 'giratinaaltered forme': 'giratina-altered', 'shayminland forme': 'shaymin-land',\n",
    "                                'basculin': 'basculin-red-striped', 'darmanitanstandard mode': 'darmanitan-standard',\n",
    "                                'tornadusincarnate forme': 'tornadus-incarnate', 'thundurusincarnate forme': 'thundurus-incarnate',\n",
    "                                'landorusincarnate forme': 'landorus-incarnate', 'keldeoordinary forme': 'keldeo-ordinary',\n",
    "                                'meloettaaria forme': 'meloetta-aria', 'flabébé': 'flabebe', 'meowsticmale': 'meowstic-male',\n",
    "                                'aegislashshield forme': 'aegislash-shield', 'pumpkabooaverage size': 'pumpkaboo-average',\n",
    "                                'gourgeistaverage size': 'gourgeist-average', 'hoopahoopa confined': 'hoopa'}})\n",
    "\n",
    "# Merge both datasets\n",
    "df_merged = pd.merge(df, df2, left_on='Name', right_on='identifier', how='left')\n",
    "\n",
    "# Drop unnecessary rows and columns\n",
    "df_merged = df_merged[df_merged['is_default'] == 1]\n",
    "cols_to_keep = ['Name', 'Type 1', 'Total', 'HP', 'Attack', 'Defense', 'Sp. Atk', 'Sp. Def', 'Speed',\n",
    "                'Generation', 'Legendary', 'height', 'weight', 'base_experience']\n",
    "df_merged = df_merged[cols_to_keep]"
   ]
  },
  {
   "cell_type": "code",
   "execution_count": 5,
   "metadata": {
    "nbpresent": {
     "id": "3edcc4be-514e-4554-967c-ce1352b46519"
    },
    "scrolled": true,
    "slideshow": {
     "slide_type": "slide"
    }
   },
   "outputs": [
    {
     "data": {
      "text/html": [
       "<div>\n",
       "<style>\n",
       "    .dataframe thead tr:only-child th {\n",
       "        text-align: right;\n",
       "    }\n",
       "\n",
       "    .dataframe thead th {\n",
       "        text-align: left;\n",
       "    }\n",
       "\n",
       "    .dataframe tbody tr th {\n",
       "        vertical-align: top;\n",
       "    }\n",
       "</style>\n",
       "<table border=\"1\" class=\"dataframe\">\n",
       "  <thead>\n",
       "    <tr style=\"text-align: right;\">\n",
       "      <th></th>\n",
       "      <th>Name</th>\n",
       "      <th>Type 1</th>\n",
       "      <th>Total</th>\n",
       "      <th>HP</th>\n",
       "      <th>Attack</th>\n",
       "      <th>Defense</th>\n",
       "      <th>Sp. Atk</th>\n",
       "      <th>Sp. Def</th>\n",
       "      <th>Speed</th>\n",
       "      <th>Generation</th>\n",
       "      <th>Legendary</th>\n",
       "      <th>height</th>\n",
       "      <th>weight</th>\n",
       "      <th>base_experience</th>\n",
       "    </tr>\n",
       "  </thead>\n",
       "  <tbody>\n",
       "    <tr>\n",
       "      <th>0</th>\n",
       "      <td>bulbasaur</td>\n",
       "      <td>Grass</td>\n",
       "      <td>318</td>\n",
       "      <td>45</td>\n",
       "      <td>49</td>\n",
       "      <td>49</td>\n",
       "      <td>65</td>\n",
       "      <td>65</td>\n",
       "      <td>45</td>\n",
       "      <td>1</td>\n",
       "      <td>False</td>\n",
       "      <td>7.0</td>\n",
       "      <td>69.0</td>\n",
       "      <td>64.0</td>\n",
       "    </tr>\n",
       "    <tr>\n",
       "      <th>1</th>\n",
       "      <td>ivysaur</td>\n",
       "      <td>Grass</td>\n",
       "      <td>405</td>\n",
       "      <td>60</td>\n",
       "      <td>62</td>\n",
       "      <td>63</td>\n",
       "      <td>80</td>\n",
       "      <td>80</td>\n",
       "      <td>60</td>\n",
       "      <td>1</td>\n",
       "      <td>False</td>\n",
       "      <td>10.0</td>\n",
       "      <td>130.0</td>\n",
       "      <td>142.0</td>\n",
       "    </tr>\n",
       "    <tr>\n",
       "      <th>2</th>\n",
       "      <td>venusaur</td>\n",
       "      <td>Grass</td>\n",
       "      <td>525</td>\n",
       "      <td>80</td>\n",
       "      <td>82</td>\n",
       "      <td>83</td>\n",
       "      <td>100</td>\n",
       "      <td>100</td>\n",
       "      <td>80</td>\n",
       "      <td>1</td>\n",
       "      <td>False</td>\n",
       "      <td>20.0</td>\n",
       "      <td>1000.0</td>\n",
       "      <td>236.0</td>\n",
       "    </tr>\n",
       "    <tr>\n",
       "      <th>4</th>\n",
       "      <td>charmander</td>\n",
       "      <td>Fire</td>\n",
       "      <td>309</td>\n",
       "      <td>39</td>\n",
       "      <td>52</td>\n",
       "      <td>43</td>\n",
       "      <td>60</td>\n",
       "      <td>50</td>\n",
       "      <td>65</td>\n",
       "      <td>1</td>\n",
       "      <td>False</td>\n",
       "      <td>6.0</td>\n",
       "      <td>85.0</td>\n",
       "      <td>62.0</td>\n",
       "    </tr>\n",
       "    <tr>\n",
       "      <th>5</th>\n",
       "      <td>charmeleon</td>\n",
       "      <td>Fire</td>\n",
       "      <td>405</td>\n",
       "      <td>58</td>\n",
       "      <td>64</td>\n",
       "      <td>58</td>\n",
       "      <td>80</td>\n",
       "      <td>65</td>\n",
       "      <td>80</td>\n",
       "      <td>1</td>\n",
       "      <td>False</td>\n",
       "      <td>11.0</td>\n",
       "      <td>190.0</td>\n",
       "      <td>142.0</td>\n",
       "    </tr>\n",
       "  </tbody>\n",
       "</table>\n",
       "</div>"
      ],
      "text/plain": [
       "         Name Type 1  Total  HP  Attack  Defense  Sp. Atk  Sp. Def  Speed  \\\n",
       "0   bulbasaur  Grass    318  45      49       49       65       65     45   \n",
       "1     ivysaur  Grass    405  60      62       63       80       80     60   \n",
       "2    venusaur  Grass    525  80      82       83      100      100     80   \n",
       "4  charmander   Fire    309  39      52       43       60       50     65   \n",
       "5  charmeleon   Fire    405  58      64       58       80       65     80   \n",
       "\n",
       "   Generation  Legendary  height  weight  base_experience  \n",
       "0           1      False     7.0    69.0             64.0  \n",
       "1           1      False    10.0   130.0            142.0  \n",
       "2           1      False    20.0  1000.0            236.0  \n",
       "4           1      False     6.0    85.0             62.0  \n",
       "5           1      False    11.0   190.0            142.0  "
      ]
     },
     "execution_count": 5,
     "metadata": {},
     "output_type": "execute_result"
    }
   ],
   "source": [
    "# View the data\n",
    "df_merged.head(5)"
   ]
  },
  {
   "cell_type": "markdown",
   "metadata": {
    "nbpresent": {
     "id": "bfe9c1d9-d354-4fd2-be91-157c4f4694b8"
    },
    "slideshow": {
     "slide_type": "slide"
    }
   },
   "source": [
    "# Data Visualizations"
   ]
  },
  {
   "cell_type": "code",
   "execution_count": 6,
   "metadata": {
    "nbpresent": {
     "id": "1a279ab4-081e-4a41-b75b-9715ab1f0ccb"
    },
    "scrolled": false,
    "slideshow": {
     "slide_type": "slide"
    }
   },
   "outputs": [
    {
     "data": {
      "text/plain": [
       "<matplotlib.axes._subplots.AxesSubplot at 0x1fff3657f28>"
      ]
     },
     "execution_count": 6,
     "metadata": {},
     "output_type": "execute_result"
    },
    {
     "data": {
      "image/png": "[encoded data removed]",
      "text/plain": [
       "<matplotlib.figure.Figure at 0x1fff3673d68>"
      ]
     },
     "metadata": {},
     "output_type": "display_data"
    }
   ],
   "source": [
    "# What is the proportion of each type in our dataset?\n",
    "df_merged['Type 1'].value_counts().plot(kind='barh', color='lightblue')"
   ]
  },
  {
   "cell_type": "code",
   "execution_count": 7,
   "metadata": {
    "nbpresent": {
     "id": "b184abe6-5432-40df-87f3-6f00fb254649"
    },
    "scrolled": true,
    "slideshow": {
     "slide_type": "slide"
    }
   },
   "outputs": [
    {
     "data": {
      "text/plain": [
       "<matplotlib.axes._subplots.AxesSubplot at 0x1fff375e438>"
      ]
     },
     "execution_count": 7,
     "metadata": {},
     "output_type": "execute_result"
    },
    {
     "data": {
      "image/png": "[encoded data removed]",
      "text/plain": [
       "<matplotlib.figure.Figure at 0x1fff3ad1780>"
      ]
     },
     "metadata": {},
     "output_type": "display_data"
    }
   ],
   "source": [
    "# Lets view the proportion by %'s instead\n",
    "labels = df_merged['Type 1'].value_counts().index\n",
    "df_merged['Type 1'].value_counts().plot(kind='pie', labels=labels, autopct='%1.0f%%')"
   ]
  },
  {
   "cell_type": "markdown",
   "metadata": {
    "nbpresent": {
     "id": "78fe1671-e59e-4ebe-bd99-58b4164423cb"
    },
    "slideshow": {
     "slide_type": "subslide"
    }
   },
   "source": [
    "There seems to be only three flying types in our whole dataset (less than <1%)! Who are they?"
   ]
  },
  {
   "cell_type": "code",
   "execution_count": 8,
   "metadata": {
    "nbpresent": {
     "id": "02f16c9d-1d43-4a86-bf5f-2bce580f2e49"
    },
    "scrolled": true,
    "slideshow": {
     "slide_type": "slide"
    }
   },
   "outputs": [
    {
     "name": "stderr",
     "output_type": "stream",
     "text": [
      "C:\\Users\\Kevin\\Anaconda3\\lib\\site-packages\\ipykernel\\__main__.py:2: UserWarning: Boolean Series key will be reindexed to match DataFrame index.\n",
      "  from ipykernel import kernelapp as app\n"
     ]
    },
    {
     "data": {
      "text/html": [
       "<div>\n",
       "<style>\n",
       "    .dataframe thead tr:only-child th {\n",
       "        text-align: right;\n",
       "    }\n",
       "\n",
       "    .dataframe thead th {\n",
       "        text-align: left;\n",
       "    }\n",
       "\n",
       "    .dataframe tbody tr th {\n",
       "        vertical-align: top;\n",
       "    }\n",
       "</style>\n",
       "<table border=\"1\" class=\"dataframe\">\n",
       "  <thead>\n",
       "    <tr style=\"text-align: right;\">\n",
       "      <th></th>\n",
       "      <th>Name</th>\n",
       "      <th>Type 1</th>\n",
       "      <th>Total</th>\n",
       "      <th>HP</th>\n",
       "      <th>Attack</th>\n",
       "      <th>Defense</th>\n",
       "      <th>Sp. Atk</th>\n",
       "      <th>Sp. Def</th>\n",
       "      <th>Speed</th>\n",
       "      <th>Generation</th>\n",
       "      <th>Legendary</th>\n",
       "      <th>height</th>\n",
       "      <th>weight</th>\n",
       "      <th>base_experience</th>\n",
       "    </tr>\n",
       "  </thead>\n",
       "  <tbody>\n",
       "    <tr>\n",
       "      <th>702</th>\n",
       "      <td>tornadus-incarnate</td>\n",
       "      <td>Flying</td>\n",
       "      <td>580</td>\n",
       "      <td>79</td>\n",
       "      <td>115</td>\n",
       "      <td>70</td>\n",
       "      <td>125</td>\n",
       "      <td>80</td>\n",
       "      <td>111</td>\n",
       "      <td>5</td>\n",
       "      <td>True</td>\n",
       "      <td>15.0</td>\n",
       "      <td>630.0</td>\n",
       "      <td>261.0</td>\n",
       "    </tr>\n",
       "    <tr>\n",
       "      <th>790</th>\n",
       "      <td>noibat</td>\n",
       "      <td>Flying</td>\n",
       "      <td>245</td>\n",
       "      <td>40</td>\n",
       "      <td>30</td>\n",
       "      <td>35</td>\n",
       "      <td>45</td>\n",
       "      <td>40</td>\n",
       "      <td>55</td>\n",
       "      <td>6</td>\n",
       "      <td>False</td>\n",
       "      <td>5.0</td>\n",
       "      <td>80.0</td>\n",
       "      <td>49.0</td>\n",
       "    </tr>\n",
       "    <tr>\n",
       "      <th>791</th>\n",
       "      <td>noivern</td>\n",
       "      <td>Flying</td>\n",
       "      <td>535</td>\n",
       "      <td>85</td>\n",
       "      <td>70</td>\n",
       "      <td>80</td>\n",
       "      <td>97</td>\n",
       "      <td>80</td>\n",
       "      <td>123</td>\n",
       "      <td>6</td>\n",
       "      <td>False</td>\n",
       "      <td>15.0</td>\n",
       "      <td>850.0</td>\n",
       "      <td>187.0</td>\n",
       "    </tr>\n",
       "  </tbody>\n",
       "</table>\n",
       "</div>"
      ],
      "text/plain": [
       "                   Name  Type 1  Total  HP  Attack  Defense  Sp. Atk  Sp. Def  \\\n",
       "702  tornadus-incarnate  Flying    580  79     115       70      125       80   \n",
       "790              noibat  Flying    245  40      30       35       45       40   \n",
       "791             noivern  Flying    535  85      70       80       97       80   \n",
       "\n",
       "     Speed  Generation  Legendary  height  weight  base_experience  \n",
       "702    111           5       True    15.0   630.0            261.0  \n",
       "790     55           6      False     5.0    80.0             49.0  \n",
       "791    123           6      False    15.0   850.0            187.0  "
      ]
     },
     "execution_count": 8,
     "metadata": {},
     "output_type": "execute_result"
    }
   ],
   "source": [
    "# There is 0% flying types! (rounded) - who are they?\n",
    "df_merged[df['Type 1'] == 'Flying']"
   ]
  },
  {
   "cell_type": "markdown",
   "metadata": {
    "nbpresent": {
     "id": "595234b7-5196-4368-8699-7fbf4d2ff5fd"
    },
    "slideshow": {
     "slide_type": "subslide"
    }
   },
   "source": [
    "![Tornadus](https://cdn.bulbagarden.net/upload/archive/0/08/20121012210431%21641Tornadus.png)\n",
    "\n",
    "![Noibat](https://cdn.bulbagarden.net/upload/archive/0/07/20131018020618%21714Noibat.png)\n",
    "\n",
    "![Noivern](https://cdn.bulbagarden.net/upload/thumb/1/15/715Noivern.png/250px-715Noivern.png)"
   ]
  },
  {
   "cell_type": "markdown",
   "metadata": {
    "nbpresent": {
     "id": "350311c5-d9c4-4f81-8470-2b81bc80d25e"
    },
    "slideshow": {
     "slide_type": "subslide"
    }
   },
   "source": [
    "Information about Noibat and its evolution can be found here: https://bulbapedia.bulbagarden.net/wiki/Noibat_(Pok%C3%A9mon)\n",
    "\n",
    "There are some interesting tidbits of information ...\n",
    "\n",
    "- Noibat and Noivern are the only Pokemon with Flying as their main type\n",
    "- They are the weakest Dragon type Pokemon\n",
    "\n",
    "Since we have little Flying-type Pokemon to work with, let us remove this type from our data completely."
   ]
  },
  {
   "cell_type": "code",
   "execution_count": 10,
   "metadata": {
    "collapsed": true,
    "nbpresent": {
     "id": "e9d6e716-39f2-4af0-8792-352830936f0e"
    },
    "slideshow": {
     "slide_type": "subslide"
    }
   },
   "outputs": [],
   "source": [
    "df_merged = df_merged[df_merged['Type 1'] != 'Flying']"
   ]
  },
  {
   "cell_type": "code",
   "execution_count": 11,
   "metadata": {
    "nbpresent": {
     "id": "56094b70-c938-4c59-aeb0-33089e62d424"
    },
    "scrolled": true,
    "slideshow": {
     "slide_type": "skip"
    }
   },
   "outputs": [
    {
     "name": "stdout",
     "output_type": "stream",
     "text": [
      "       Name  Total\n",
      "18   arceus    720\n",
      "139  dialga    680\n",
      "397  mewtwo    680\n",
      "          Name   HP\n",
      "55     blissey  255\n",
      "84     chansey  250\n",
      "696  wobbuffet  190\n",
      "          Name  Attack\n",
      "493  rampardos     165\n",
      "499  regigigas     160\n",
      "566    slaking     160\n",
      "         Name  Defense\n",
      "552   shuckle      230\n",
      "599   steelix      200\n",
      "500  regirock      200\n",
      "       Name  Sp. Atk\n",
      "397  mewtwo      154\n",
      "139  dialga      150\n",
      "439  palkia      150\n",
      "        Name  Sp. Def\n",
      "552  shuckle      230\n",
      "498   regice      200\n",
      "204  florges      154\n",
      "              Name  Speed\n",
      "427        ninjask    160\n",
      "136  deoxys-normal    150\n",
      "3         accelgor    145\n",
      "        Name  height\n",
      "682  wailord   145.0\n",
      "599  steelix    92.0\n",
      "436     onix    88.0\n",
      "                 Name  weight\n",
      "255           groudon  9500.0\n",
      "229  giratina-altered  7500.0\n",
      "139            dialga  6830.0\n",
      "       Name  base_experience\n",
      "55  blissey            608.0\n",
      "84  chansey            395.0\n",
      "26   audino            390.0\n"
     ]
    }
   ],
   "source": [
    "# Which Pokemon has the highest value for each stat?\n",
    "variables_list = ['Total', 'HP', 'Attack', 'Defense', 'Sp. Atk', 'Sp. Def', 'Speed', 'height', 'weight', 'base_experience']\n",
    "\n",
    "for i in variables_list:    \n",
    "    print(df_merged.groupby(['Name'], as_index=False)['%s' % i].max().sort_values(by=['%s' % i], ascending=False).head(3))"
   ]
  },
  {
   "cell_type": "markdown",
   "metadata": {
    "nbpresent": {
     "id": "66045ace-ee21-4811-949e-7babbcebde96"
    },
    "slideshow": {
     "slide_type": "subslide"
    }
   },
   "source": [
    "### Strongest Overall: \n",
    "![Arceus](https://cdn.bulbagarden.net/upload/archive/f/fc/20091223231750%21493Arceus.png)\n",
    "\n",
    "\n",
    "### Strongest Attack\n",
    "![Rampardos](https://cdn.bulbagarden.net/upload/archive/8/8a/20150110180120%21409Rampardos.png)\n",
    "\n",
    "\n",
    "### Strongest Special Attack\n",
    "![Mewtwo](https://cdn.bulbagarden.net/upload/archive/7/78/20100721215628%21150Mewtwo.png)"
   ]
  },
  {
   "cell_type": "markdown",
   "metadata": {
    "nbpresent": {
     "id": "0aebf049-7163-427e-a333-ca5781c9a0c9"
    },
    "slideshow": {
     "slide_type": "subslide"
    }
   },
   "source": [
    "### Strong Defense + Special Defense\n",
    "![Shuckle](https://cdn.bulbagarden.net/upload/archive/c/c7/20100417202600%21213Shuckle.png)\n",
    "\n",
    "\n",
    "### Tallest\n",
    "![Wailord](https://cdn.bulbagarden.net/upload/archive/b/b9/20130823081435%21321Wailord.png)\n",
    "\n",
    "\n",
    "### Most Experience when Defeated\n",
    "![Blissey](https://cdn.bulbagarden.net/upload/archive/5/56/20100417215011%21242Blissey.png)"
   ]
  },
  {
   "cell_type": "markdown",
   "metadata": {
    "nbpresent": {
     "id": "e327f260-0bd3-4521-9d8b-aad846c65b28"
    },
    "slideshow": {
     "slide_type": "slide"
    }
   },
   "source": [
    "### What is my favourite Pokemon?\n",
    "\n",
    "\n",
    "\n",
    "#### **Hint:\n",
    "\n",
    "![Grass Logo](http://www.pvhc.net/img180/lpwfqnthohncneyelixt.png)"
   ]
  },
  {
   "cell_type": "markdown",
   "metadata": {
    "nbpresent": {
     "id": "cee09356-5a73-4d8d-a3d5-3c0217648c96"
    },
    "slideshow": {
     "slide_type": "subslide"
    }
   },
   "source": [
    "### Generation 2\n",
    "\n",
    "![Pokemon Crystal Launch Screen](https://cdn.bulbagarden.net/upload/d/d1/CrystalTitle.png)"
   ]
  },
  {
   "cell_type": "markdown",
   "metadata": {
    "nbpresent": {
     "id": "93192e8c-1472-4b63-a7df-1d274c0fce0b"
    },
    "slideshow": {
     "slide_type": "subslide"
    }
   },
   "source": [
    "### Cuddly\n",
    "\n",
    "![Cuddly Pokemon](https://cdn.bulbagarden.net/upload/thumb/0/0d/025Pikachu.png/250px-025Pikachu.png)"
   ]
  },
  {
   "cell_type": "markdown",
   "metadata": {
    "nbpresent": {
     "id": "39510825-3652-4ece-95e0-0464edb63652"
    },
    "slideshow": {
     "slide_type": "subslide"
    }
   },
   "source": [
    "### Has a leaf on its head\n",
    "\n",
    "![Turtwig](https://cdn.bulbagarden.net/upload/archive/5/5c/20090601031122%21387Turtwig.png)"
   ]
  },
  {
   "cell_type": "markdown",
   "metadata": {
    "nbpresent": {
     "id": "79af7110-bab1-4248-aed5-bd0184558555"
    },
    "slideshow": {
     "slide_type": "subslide"
    }
   },
   "source": [
    "### Is the \"Bulbasaur\" of generation 2"
   ]
  },
  {
   "cell_type": "markdown",
   "metadata": {
    "nbpresent": {
     "id": "a1d32325-8011-46f0-9b3a-3bb1577d52c9"
    },
    "slideshow": {
     "slide_type": "subslide"
    }
   },
   "source": [
    "![Chikorita](https://cdn.bulbagarden.net/upload/archive/b/bf/20091219070559%21152Chikorita.png)"
   ]
  },
  {
   "cell_type": "code",
   "execution_count": 12,
   "metadata": {
    "nbpresent": {
     "id": "a35780a0-fbd4-40a2-8a66-c175dc81f716"
    },
    "scrolled": true,
    "slideshow": {
     "slide_type": "skip"
    }
   },
   "outputs": [
    {
     "data": {
      "text/html": [
       "<div>\n",
       "<style>\n",
       "    .dataframe thead tr:only-child th {\n",
       "        text-align: right;\n",
       "    }\n",
       "\n",
       "    .dataframe thead th {\n",
       "        text-align: left;\n",
       "    }\n",
       "\n",
       "    .dataframe tbody tr th {\n",
       "        vertical-align: top;\n",
       "    }\n",
       "</style>\n",
       "<table border=\"1\" class=\"dataframe\">\n",
       "  <thead>\n",
       "    <tr style=\"text-align: right;\">\n",
       "      <th></th>\n",
       "      <th>Name</th>\n",
       "      <th>Type 1</th>\n",
       "      <th>Total</th>\n",
       "      <th>HP</th>\n",
       "      <th>Attack</th>\n",
       "      <th>Defense</th>\n",
       "      <th>Sp. Atk</th>\n",
       "      <th>Sp. Def</th>\n",
       "      <th>Speed</th>\n",
       "      <th>Generation</th>\n",
       "      <th>Legendary</th>\n",
       "      <th>height</th>\n",
       "      <th>weight</th>\n",
       "      <th>base_experience</th>\n",
       "    </tr>\n",
       "  </thead>\n",
       "  <tbody>\n",
       "    <tr>\n",
       "      <th>552</th>\n",
       "      <td>arceus</td>\n",
       "      <td>Normal</td>\n",
       "      <td>720</td>\n",
       "      <td>120</td>\n",
       "      <td>120</td>\n",
       "      <td>120</td>\n",
       "      <td>120</td>\n",
       "      <td>120</td>\n",
       "      <td>120</td>\n",
       "      <td>4</td>\n",
       "      <td>True</td>\n",
       "      <td>32.0</td>\n",
       "      <td>3200.0</td>\n",
       "      <td>324.0</td>\n",
       "    </tr>\n",
       "    <tr>\n",
       "      <th>707</th>\n",
       "      <td>zekrom</td>\n",
       "      <td>Dragon</td>\n",
       "      <td>680</td>\n",
       "      <td>100</td>\n",
       "      <td>150</td>\n",
       "      <td>120</td>\n",
       "      <td>120</td>\n",
       "      <td>100</td>\n",
       "      <td>90</td>\n",
       "      <td>5</td>\n",
       "      <td>True</td>\n",
       "      <td>29.0</td>\n",
       "      <td>3450.0</td>\n",
       "      <td>306.0</td>\n",
       "    </tr>\n",
       "    <tr>\n",
       "      <th>270</th>\n",
       "      <td>ho-oh</td>\n",
       "      <td>Fire</td>\n",
       "      <td>680</td>\n",
       "      <td>106</td>\n",
       "      <td>130</td>\n",
       "      <td>90</td>\n",
       "      <td>110</td>\n",
       "      <td>154</td>\n",
       "      <td>90</td>\n",
       "      <td>2</td>\n",
       "      <td>True</td>\n",
       "      <td>38.0</td>\n",
       "      <td>1990.0</td>\n",
       "      <td>306.0</td>\n",
       "    </tr>\n",
       "    <tr>\n",
       "      <th>544</th>\n",
       "      <td>giratina-altered</td>\n",
       "      <td>Ghost</td>\n",
       "      <td>680</td>\n",
       "      <td>150</td>\n",
       "      <td>100</td>\n",
       "      <td>120</td>\n",
       "      <td>100</td>\n",
       "      <td>120</td>\n",
       "      <td>90</td>\n",
       "      <td>4</td>\n",
       "      <td>True</td>\n",
       "      <td>45.0</td>\n",
       "      <td>7500.0</td>\n",
       "      <td>306.0</td>\n",
       "    </tr>\n",
       "    <tr>\n",
       "      <th>541</th>\n",
       "      <td>palkia</td>\n",
       "      <td>Water</td>\n",
       "      <td>680</td>\n",
       "      <td>90</td>\n",
       "      <td>120</td>\n",
       "      <td>100</td>\n",
       "      <td>150</td>\n",
       "      <td>120</td>\n",
       "      <td>100</td>\n",
       "      <td>4</td>\n",
       "      <td>True</td>\n",
       "      <td>42.0</td>\n",
       "      <td>3360.0</td>\n",
       "      <td>306.0</td>\n",
       "    </tr>\n",
       "    <tr>\n",
       "      <th>540</th>\n",
       "      <td>dialga</td>\n",
       "      <td>Steel</td>\n",
       "      <td>680</td>\n",
       "      <td>100</td>\n",
       "      <td>120</td>\n",
       "      <td>120</td>\n",
       "      <td>150</td>\n",
       "      <td>100</td>\n",
       "      <td>90</td>\n",
       "      <td>4</td>\n",
       "      <td>True</td>\n",
       "      <td>54.0</td>\n",
       "      <td>6830.0</td>\n",
       "      <td>306.0</td>\n",
       "    </tr>\n",
       "    <tr>\n",
       "      <th>793</th>\n",
       "      <td>yveltal</td>\n",
       "      <td>Dark</td>\n",
       "      <td>680</td>\n",
       "      <td>126</td>\n",
       "      <td>131</td>\n",
       "      <td>95</td>\n",
       "      <td>131</td>\n",
       "      <td>98</td>\n",
       "      <td>99</td>\n",
       "      <td>6</td>\n",
       "      <td>True</td>\n",
       "      <td>58.0</td>\n",
       "      <td>2030.0</td>\n",
       "      <td>306.0</td>\n",
       "    </tr>\n",
       "    <tr>\n",
       "      <th>792</th>\n",
       "      <td>xerneas</td>\n",
       "      <td>Fairy</td>\n",
       "      <td>680</td>\n",
       "      <td>126</td>\n",
       "      <td>131</td>\n",
       "      <td>95</td>\n",
       "      <td>131</td>\n",
       "      <td>98</td>\n",
       "      <td>99</td>\n",
       "      <td>6</td>\n",
       "      <td>True</td>\n",
       "      <td>30.0</td>\n",
       "      <td>2150.0</td>\n",
       "      <td>306.0</td>\n",
       "    </tr>\n",
       "    <tr>\n",
       "      <th>162</th>\n",
       "      <td>mewtwo</td>\n",
       "      <td>Psychic</td>\n",
       "      <td>680</td>\n",
       "      <td>106</td>\n",
       "      <td>110</td>\n",
       "      <td>90</td>\n",
       "      <td>154</td>\n",
       "      <td>90</td>\n",
       "      <td>130</td>\n",
       "      <td>1</td>\n",
       "      <td>True</td>\n",
       "      <td>20.0</td>\n",
       "      <td>1220.0</td>\n",
       "      <td>306.0</td>\n",
       "    </tr>\n",
       "    <tr>\n",
       "      <th>423</th>\n",
       "      <td>groudon</td>\n",
       "      <td>Ground</td>\n",
       "      <td>670</td>\n",
       "      <td>100</td>\n",
       "      <td>150</td>\n",
       "      <td>140</td>\n",
       "      <td>100</td>\n",
       "      <td>90</td>\n",
       "      <td>90</td>\n",
       "      <td>3</td>\n",
       "      <td>True</td>\n",
       "      <td>35.0</td>\n",
       "      <td>9500.0</td>\n",
       "      <td>302.0</td>\n",
       "    </tr>\n",
       "    <tr>\n",
       "      <th>550</th>\n",
       "      <td>shaymin-land</td>\n",
       "      <td>Grass</td>\n",
       "      <td>600</td>\n",
       "      <td>100</td>\n",
       "      <td>100</td>\n",
       "      <td>100</td>\n",
       "      <td>100</td>\n",
       "      <td>100</td>\n",
       "      <td>100</td>\n",
       "      <td>4</td>\n",
       "      <td>True</td>\n",
       "      <td>2.0</td>\n",
       "      <td>21.0</td>\n",
       "      <td>270.0</td>\n",
       "    </tr>\n",
       "    <tr>\n",
       "      <th>717</th>\n",
       "      <td>genesect</td>\n",
       "      <td>Bug</td>\n",
       "      <td>600</td>\n",
       "      <td>71</td>\n",
       "      <td>120</td>\n",
       "      <td>95</td>\n",
       "      <td>120</td>\n",
       "      <td>95</td>\n",
       "      <td>99</td>\n",
       "      <td>5</td>\n",
       "      <td>False</td>\n",
       "      <td>15.0</td>\n",
       "      <td>825.0</td>\n",
       "      <td>270.0</td>\n",
       "    </tr>\n",
       "    <tr>\n",
       "      <th>795</th>\n",
       "      <td>diancie</td>\n",
       "      <td>Rock</td>\n",
       "      <td>600</td>\n",
       "      <td>50</td>\n",
       "      <td>100</td>\n",
       "      <td>150</td>\n",
       "      <td>100</td>\n",
       "      <td>150</td>\n",
       "      <td>50</td>\n",
       "      <td>6</td>\n",
       "      <td>True</td>\n",
       "      <td>7.0</td>\n",
       "      <td>88.0</td>\n",
       "      <td>270.0</td>\n",
       "    </tr>\n",
       "    <tr>\n",
       "      <th>157</th>\n",
       "      <td>zapdos</td>\n",
       "      <td>Electric</td>\n",
       "      <td>580</td>\n",
       "      <td>90</td>\n",
       "      <td>90</td>\n",
       "      <td>85</td>\n",
       "      <td>125</td>\n",
       "      <td>90</td>\n",
       "      <td>100</td>\n",
       "      <td>1</td>\n",
       "      <td>True</td>\n",
       "      <td>16.0</td>\n",
       "      <td>526.0</td>\n",
       "      <td>261.0</td>\n",
       "    </tr>\n",
       "    <tr>\n",
       "      <th>156</th>\n",
       "      <td>articuno</td>\n",
       "      <td>Ice</td>\n",
       "      <td>580</td>\n",
       "      <td>90</td>\n",
       "      <td>85</td>\n",
       "      <td>100</td>\n",
       "      <td>95</td>\n",
       "      <td>125</td>\n",
       "      <td>85</td>\n",
       "      <td>1</td>\n",
       "      <td>True</td>\n",
       "      <td>17.0</td>\n",
       "      <td>554.0</td>\n",
       "      <td>261.0</td>\n",
       "    </tr>\n",
       "    <tr>\n",
       "      <th>183</th>\n",
       "      <td>crobat</td>\n",
       "      <td>Poison</td>\n",
       "      <td>535</td>\n",
       "      <td>85</td>\n",
       "      <td>90</td>\n",
       "      <td>80</td>\n",
       "      <td>70</td>\n",
       "      <td>80</td>\n",
       "      <td>130</td>\n",
       "      <td>2</td>\n",
       "      <td>False</td>\n",
       "      <td>18.0</td>\n",
       "      <td>750.0</td>\n",
       "      <td>241.0</td>\n",
       "    </tr>\n",
       "    <tr>\n",
       "      <th>497</th>\n",
       "      <td>lucario</td>\n",
       "      <td>Fighting</td>\n",
       "      <td>525</td>\n",
       "      <td>70</td>\n",
       "      <td>110</td>\n",
       "      <td>70</td>\n",
       "      <td>115</td>\n",
       "      <td>70</td>\n",
       "      <td>90</td>\n",
       "      <td>4</td>\n",
       "      <td>False</td>\n",
       "      <td>12.0</td>\n",
       "      <td>540.0</td>\n",
       "      <td>184.0</td>\n",
       "    </tr>\n",
       "  </tbody>\n",
       "</table>\n",
       "</div>"
      ],
      "text/plain": [
       "                 Name    Type 1  Total   HP  Attack  Defense  Sp. Atk  \\\n",
       "552            arceus    Normal    720  120     120      120      120   \n",
       "707            zekrom    Dragon    680  100     150      120      120   \n",
       "270             ho-oh      Fire    680  106     130       90      110   \n",
       "544  giratina-altered     Ghost    680  150     100      120      100   \n",
       "541            palkia     Water    680   90     120      100      150   \n",
       "540            dialga     Steel    680  100     120      120      150   \n",
       "793           yveltal      Dark    680  126     131       95      131   \n",
       "792           xerneas     Fairy    680  126     131       95      131   \n",
       "162            mewtwo   Psychic    680  106     110       90      154   \n",
       "423           groudon    Ground    670  100     150      140      100   \n",
       "550      shaymin-land     Grass    600  100     100      100      100   \n",
       "717          genesect       Bug    600   71     120       95      120   \n",
       "795           diancie      Rock    600   50     100      150      100   \n",
       "157            zapdos  Electric    580   90      90       85      125   \n",
       "156          articuno       Ice    580   90      85      100       95   \n",
       "183            crobat    Poison    535   85      90       80       70   \n",
       "497           lucario  Fighting    525   70     110       70      115   \n",
       "\n",
       "     Sp. Def  Speed  Generation  Legendary  height  weight  base_experience  \n",
       "552      120    120           4       True    32.0  3200.0            324.0  \n",
       "707      100     90           5       True    29.0  3450.0            306.0  \n",
       "270      154     90           2       True    38.0  1990.0            306.0  \n",
       "544      120     90           4       True    45.0  7500.0            306.0  \n",
       "541      120    100           4       True    42.0  3360.0            306.0  \n",
       "540      100     90           4       True    54.0  6830.0            306.0  \n",
       "793       98     99           6       True    58.0  2030.0            306.0  \n",
       "792       98     99           6       True    30.0  2150.0            306.0  \n",
       "162       90    130           1       True    20.0  1220.0            306.0  \n",
       "423       90     90           3       True    35.0  9500.0            302.0  \n",
       "550      100    100           4       True     2.0    21.0            270.0  \n",
       "717       95     99           5      False    15.0   825.0            270.0  \n",
       "795      150     50           6       True     7.0    88.0            270.0  \n",
       "157       90    100           1       True    16.0   526.0            261.0  \n",
       "156      125     85           1       True    17.0   554.0            261.0  \n",
       "183       80    130           2      False    18.0   750.0            241.0  \n",
       "497       70     90           4      False    12.0   540.0            184.0  "
      ]
     },
     "execution_count": 12,
     "metadata": {},
     "output_type": "execute_result"
    }
   ],
   "source": [
    "# Who is the 'strongest' Pokemon of each type?\n",
    "strongest = df_merged.sort_values(by='Total', ascending=False)\n",
    "strongest.drop_duplicates(subset=['Type 1'], keep='first')"
   ]
  },
  {
   "cell_type": "code",
   "execution_count": 13,
   "metadata": {
    "nbpresent": {
     "id": "6d2ee07c-71ec-45ba-93c7-bcad65559760"
    },
    "scrolled": true,
    "slideshow": {
     "slide_type": "slide"
    }
   },
   "outputs": [
    {
     "data": {
      "text/plain": [
       "<matplotlib.axes._subplots.AxesSubplot at 0x1fff3ff4c88>"
      ]
     },
     "execution_count": 13,
     "metadata": {},
     "output_type": "execute_result"
    },
    {
     "data": {
      "image/png": "[encoded data removed]",
      "text/plain": [
       "<matplotlib.figure.Figure at 0x1fff3bb1d68>"
      ]
     },
     "metadata": {},
     "output_type": "display_data"
    }
   ],
   "source": [
    "# How powerful is each generation\n",
    "plt.title('Total Power by Generation')\n",
    "sns.violinplot(x = 'Generation', y='Total', data=df_merged)"
   ]
  },
  {
   "cell_type": "markdown",
   "metadata": {
    "nbpresent": {
     "id": "91c4a1f3-08b6-4298-b474-44c58f0224c1"
    },
    "slideshow": {
     "slide_type": "skip"
    }
   },
   "source": [
    "Generation 4 is marginally stronger compared to the other generations!"
   ]
  },
  {
   "cell_type": "code",
   "execution_count": 14,
   "metadata": {
    "nbpresent": {
     "id": "65d4f3df-c0d4-40aa-8c22-e117088623cb"
    },
    "scrolled": false,
    "slideshow": {
     "slide_type": "slide"
    }
   },
   "outputs": [
    {
     "data": {
      "text/plain": [
       "<matplotlib.lines.Line2D at 0x1fff4091780>"
      ]
     },
     "execution_count": 14,
     "metadata": {},
     "output_type": "execute_result"
    },
    {
     "data": {
      "image/png": "[encoded data removed]",
      "text/plain": [
       "<matplotlib.figure.Figure at 0x1fff409d128>"
      ]
     },
     "metadata": {},
     "output_type": "display_data"
    }
   ],
   "source": [
    "# Where do legendaries fall within the power level in each type?\n",
    "plt.figure(figsize=(11,11))\n",
    "sns.swarmplot(x='Type 1', y='Total', data=df_merged, hue='Legendary')\n",
    "plt.axhline(df_merged['Total'].mean(), color='red', linestyle='dashed')"
   ]
  },
  {
   "cell_type": "markdown",
   "metadata": {
    "nbpresent": {
     "id": "7b1ccf5d-6205-4999-a42d-31088114b437"
    },
    "slideshow": {
     "slide_type": "skip"
    }
   },
   "source": [
    "Legendary Pokemon are distinctly stronger than non-legendary Pokemon!"
   ]
  },
  {
   "cell_type": "code",
   "execution_count": 15,
   "metadata": {
    "nbpresent": {
     "id": "ad2dfaa3-3791-4a6b-8146-60be041c941e"
    },
    "scrolled": false,
    "slideshow": {
     "slide_type": "slide"
    }
   },
   "outputs": [
    {
     "data": {
      "text/plain": [
       "<matplotlib.axes._subplots.AxesSubplot at 0x1fff3b18c50>"
      ]
     },
     "execution_count": 15,
     "metadata": {},
     "output_type": "execute_result"
    },
    {
     "data": {
      "image/png": "[encoded data removed]",
      "text/plain": [
       "<matplotlib.figure.Figure at 0x1fff4365240>"
      ]
     },
     "metadata": {},
     "output_type": "display_data"
    }
   ],
   "source": [
    "# Are the variables correlated to each other?\n",
    "corr_df = df_merged.corr(method='pearson')\n",
    "\n",
    "mask = np.zeros_like(corr_df)\n",
    "mask[np.triu_indices_from(mask)] = True\n",
    "\n",
    "sns.heatmap(corr_df, cmap='RdYlGn_r', vmax=1.0, vmin=-1.0 , mask = mask, linewidths=4.5, annot=True)"
   ]
  },
  {
   "cell_type": "markdown",
   "metadata": {
    "nbpresent": {
     "id": "368780a1-337d-48e4-85f6-47814a3043f3"
    },
    "slideshow": {
     "slide_type": "fragment"
    }
   },
   "source": [
    "There is some correlation with the following stats:\n",
    "\n",
    "- Height and weight (intuitively makes sense)\n",
    "- Base Experience and Special Attack / Special Defense\n",
    "- Base Experience and Total (intuitively makes sense; the stronger a Pokemon, the more experience you receive)"
   ]
  },
  {
   "cell_type": "markdown",
   "metadata": {
    "nbpresent": {
     "id": "ea34e7ec-81b7-45b4-9b1e-6a086fc6ffcf"
    },
    "slideshow": {
     "slide_type": "slide"
    }
   },
   "source": [
    "# Preparing Training and Testing Data"
   ]
  },
  {
   "cell_type": "markdown",
   "metadata": {
    "nbpresent": {
     "id": "c85d105d-10f3-413a-8f38-a951f106039d"
    },
    "slideshow": {
     "slide_type": "fragment"
    }
   },
   "source": [
    "The following will need to be completed:\n",
    "\n",
    "- Setting the legendary feature to 1 = True and 0 = False\n",
    "- Our test data will consist of 5% of each Pokemon type\n",
    "- Standardize our data"
   ]
  },
  {
   "cell_type": "code",
   "execution_count": 16,
   "metadata": {
    "collapsed": true,
    "nbpresent": {
     "id": "0623a639-2ae4-4d8d-a53b-569a69ee570d"
    },
    "slideshow": {
     "slide_type": "slide"
    }
   },
   "outputs": [],
   "source": [
    "# Set legendary False = 0, True = 1\n",
    "df_merged['Legendary'] = np.where(df_merged['Legendary'] == True, 1, 0)"
   ]
  },
  {
   "cell_type": "code",
   "execution_count": 17,
   "metadata": {
    "collapsed": true,
    "nbpresent": {
     "id": "8fcd2d68-c17d-4827-a1a4-4d2b476b9216"
    },
    "slideshow": {
     "slide_type": "fragment"
    }
   },
   "outputs": [],
   "source": [
    "# Remove out a random sample of 5% of EACH TYPE of pokemon to be used as the test data\n",
    "type_list = list(df_merged['Type 1'].unique())\n",
    "\n",
    "df_test = pd.DataFrame(columns = df_merged.columns)\n",
    "for i in type_list:\n",
    "    df_test = df_test.append((df_merged[df_merged['Type 1'] == i]).sample(frac=0.05))"
   ]
  },
  {
   "cell_type": "code",
   "execution_count": 17,
   "metadata": {
    "collapsed": true,
    "nbpresent": {
     "id": "e15254b8-d720-4e83-b32a-c84f81d8f421"
    },
    "slideshow": {
     "slide_type": "skip"
    }
   },
   "outputs": [],
   "source": [
    "# Now remove the sample rows from the main dataset\n",
    "df_train = df_merged[~df_merged['Name'].isin(df_test['Name'])]"
   ]
  },
  {
   "cell_type": "code",
   "execution_count": 18,
   "metadata": {
    "collapsed": true,
    "nbpresent": {
     "id": "b4dc5228-18a5-4f28-9b42-109103ea56d5"
    },
    "slideshow": {
     "slide_type": "fragment"
    }
   },
   "outputs": [],
   "source": [
    "# Standardize and scale our numeric data\n",
    "from sklearn import preprocessing\n",
    "max_abs_scaler = preprocessing.MaxAbsScaler()\n",
    "\n",
    "X_train = max_abs_scaler.fit_transform(df_train.iloc[:,2:13])\n",
    "X_test = max_abs_scaler.fit_transform(df_test.iloc[:,2:13])"
   ]
  },
  {
   "cell_type": "code",
   "execution_count": 19,
   "metadata": {
    "collapsed": true,
    "nbpresent": {
     "id": "1aa5f033-1739-466f-a070-ce61a38d23e2"
    },
    "slideshow": {
     "slide_type": "fragment"
    }
   },
   "outputs": [],
   "source": [
    "# Create an arrays for our labels\n",
    "array_train = df_train.values\n",
    "array_test = df_test.values\n",
    "\n",
    "Y_train = array_train[:,1]\n",
    "Y_test = array_test[:,1]"
   ]
  },
  {
   "cell_type": "markdown",
   "metadata": {
    "nbpresent": {
     "id": "41c954b1-31e1-4d3b-89c5-44519e919bc6"
    },
    "slideshow": {
     "slide_type": "slide"
    }
   },
   "source": [
    "# Algorithm One: Naives Bayes\n",
    "\n",
    "![Naives Bayes Formula](http://www.saedsayad.com/images/Bayes_rule.png)"
   ]
  },
  {
   "cell_type": "code",
   "execution_count": 23,
   "metadata": {
    "collapsed": true,
    "nbpresent": {
     "id": "0de74a8e-e385-4948-b6b6-b52039a317ef"
    },
    "slideshow": {
     "slide_type": "slide"
    }
   },
   "outputs": [],
   "source": [
    "# Import Naives Bayes and 10-fold cross validation\n",
    "from sklearn import model_selection\n",
    "\n",
    "# Prepare the kfold model\n",
    "kfold = model_selection.KFold(n_splits=10, shuffle=True)\n",
    "\n",
    "# Leave one out cross validation model\n",
    "loocv = model_selection.LeaveOneOut()"
   ]
  },
  {
   "cell_type": "code",
   "execution_count": 24,
   "metadata": {
    "nbpresent": {
     "id": "6a6c4330-caa5-4c67-b6cc-b69e160b9f21"
    },
    "slideshow": {
     "slide_type": "fragment"
    }
   },
   "outputs": [
    {
     "data": {
      "text/plain": [
       "GaussianNB(priors=None)"
      ]
     },
     "execution_count": 24,
     "metadata": {},
     "output_type": "execute_result"
    }
   ],
   "source": [
    "# Train the Naive Bayes model\n",
    "from sklearn.naive_bayes import GaussianNB\n",
    "gnb = GaussianNB()\n",
    "gnb.fit(X_train, Y_train)"
   ]
  },
  {
   "cell_type": "code",
   "execution_count": 25,
   "metadata": {
    "nbpresent": {
     "id": "5561b7c8-b265-4c94-8830-ebf711c139b6"
    },
    "slideshow": {
     "slide_type": "fragment"
    }
   },
   "outputs": [
    {
     "data": {
      "text/plain": [
       "0.091666666666666646"
      ]
     },
     "execution_count": 25,
     "metadata": {},
     "output_type": "execute_result"
    }
   ],
   "source": [
    "# Naives Bayes with Kfolds on our Test Data\n",
    "results = model_selection.cross_val_score(gnb, X_test, Y_test, cv=kfold)\n",
    "results.mean()"
   ]
  },
  {
   "cell_type": "code",
   "execution_count": 26,
   "metadata": {
    "nbpresent": {
     "id": "5e7b53eb-c1a5-4271-a886-a12c73fd25fd"
    },
    "slideshow": {
     "slide_type": "fragment"
    }
   },
   "outputs": [
    {
     "data": {
      "text/plain": [
       "0.058823529411764705"
      ]
     },
     "execution_count": 26,
     "metadata": {},
     "output_type": "execute_result"
    }
   ],
   "source": [
    "# Naive Bayes with LOOCV on our Test Data\n",
    "results2 = model_selection.cross_val_score(gnb, X_test, Y_test, cv=loocv)\n",
    "results2.mean()"
   ]
  },
  {
   "cell_type": "markdown",
   "metadata": {
    "nbpresent": {
     "id": "7aff5b1c-bb9d-4289-ba99-4ca46eb3d1cc"
    },
    "slideshow": {
     "slide_type": "fragment"
    }
   },
   "source": [
    "Our results for Naives Bayes are the following:\n",
    "\n",
    "- 10-Fold Cross Validation: 0.09\n",
    "- Leave-one-out Cross Validation: 0.059"
   ]
  },
  {
   "cell_type": "markdown",
   "metadata": {
    "nbpresent": {
     "id": "5e9945a9-4173-4c62-8366-59896ccaa965"
    },
    "slideshow": {
     "slide_type": "slide"
    }
   },
   "source": [
    "# Algorithm Two: Support Vector Machines (SVM)\n",
    "\n",
    "![Support Vector Machine](https://qph.ec.quoracdn.net/main-qimg-08fe68adf9ee3e05ca806e72cbd88b54)"
   ]
  },
  {
   "cell_type": "code",
   "execution_count": 27,
   "metadata": {
    "collapsed": true,
    "nbpresent": {
     "id": "6bd6bc64-b765-47a5-8c37-75e0c271bdaa"
    },
    "slideshow": {
     "slide_type": "slide"
    }
   },
   "outputs": [],
   "source": [
    "# Import SVM\n",
    "from sklearn.svm import SVC\n",
    "from sklearn import svm\n",
    "estimator = SVC(kernel='linear')\n",
    "\n",
    "# Let us conduct parameter tuning with GridSearchCV to optimize our results\n",
    "from sklearn.model_selection import GridSearchCV"
   ]
  },
  {
   "cell_type": "code",
   "execution_count": 28,
   "metadata": {
    "collapsed": true,
    "nbpresent": {
     "id": "f6a5d9a1-a9cd-42be-a881-9f0fb39b4e2f"
    },
    "slideshow": {
     "slide_type": "fragment"
    }
   },
   "outputs": [],
   "source": [
    "# Prep up parameters to tune\n",
    "svm_parameters = [\n",
    "                  {'C': [1, 10, 100, 1000], 'kernel': ['linear']},\n",
    "                  {'C': [1, 10, 100, 1000], 'gamma': [0.001, 0.0001], 'kernel': ['rbf']}\n",
    "                  ]"
   ]
  },
  {
   "cell_type": "code",
   "execution_count": 40,
   "metadata": {
    "nbpresent": {
     "id": "7c32a5ef-61ae-4d07-9807-5a98893f7241"
    },
    "scrolled": true,
    "slideshow": {
     "slide_type": "slide"
    }
   },
   "outputs": [
    {
     "data": {
      "text/plain": [
       "GridSearchCV(cv=KFold(n_splits=10, random_state=None, shuffle=True),\n",
       "       error_score='raise',\n",
       "       estimator=SVC(C=1.0, cache_size=200, class_weight=None, coef0=0.0,\n",
       "  decision_function_shape=None, degree=3, gamma='auto', kernel='linear',\n",
       "  max_iter=-1, probability=False, random_state=None, shrinking=True,\n",
       "  tol=0.001, verbose=False),\n",
       "       fit_params={}, iid=True, n_jobs=1,\n",
       "       param_grid=[{'C': [1, 10, 100, 1000], 'kernel': ['linear']}, {'kernel': ['rbf'], 'C': [1, 10, 100, 1000], 'gamma': [0.001, 0.0001]}],\n",
       "       pre_dispatch='2*n_jobs', refit=True, return_train_score=True,\n",
       "       scoring=None, verbose=0)"
      ]
     },
     "execution_count": 40,
     "metadata": {},
     "output_type": "execute_result"
    }
   ],
   "source": [
    "# Train our SVM classifier                  \n",
    "svm_classifier = GridSearchCV(estimator=estimator, cv=kfold, param_grid=svm_parameters)\n",
    "svm_classifier.fit(X_train, Y_train)"
   ]
  },
  {
   "cell_type": "code",
   "execution_count": 41,
   "metadata": {
    "nbpresent": {
     "id": "f159de30-9f83-4af9-8859-b66197787467"
    },
    "slideshow": {
     "slide_type": "slide"
    }
   },
   "outputs": [
    {
     "name": "stdout",
     "output_type": "stream",
     "text": [
      "Best score for data: 0.235724743777\n",
      "Best C: 100\n",
      "Best Kernel: linear\n",
      "Best Gamma: auto\n"
     ]
    }
   ],
   "source": [
    "# The best parameters with the score:\n",
    "print('Best score for data:', svm_classifier.best_score_)\n",
    "print('Best C:',svm_classifier.best_estimator_.C) \n",
    "print('Best Kernel:',svm_classifier.best_estimator_.kernel)\n",
    "print('Best Gamma:',svm_classifier.best_estimator_.gamma)"
   ]
  },
  {
   "cell_type": "code",
   "execution_count": 42,
   "metadata": {
    "nbpresent": {
     "id": "ff38f655-edc5-412f-9172-7d2924b9e9d5"
    },
    "scrolled": false,
    "slideshow": {
     "slide_type": "fragment"
    }
   },
   "outputs": [
    {
     "data": {
      "text/plain": [
       "0.23529411764705882"
      ]
     },
     "execution_count": 42,
     "metadata": {},
     "output_type": "execute_result"
    }
   ],
   "source": [
    "# Test our trained SVM classifier with our test data\n",
    "svm_classifier.score(X_test, Y_test)"
   ]
  },
  {
   "cell_type": "markdown",
   "metadata": {
    "nbpresent": {
     "id": "84d5dcac-190c-4535-99c0-076c890d0897"
    },
    "slideshow": {
     "slide_type": "fragment"
    }
   },
   "source": [
    "Our score has improved from 0.09 to 0.2353!"
   ]
  },
  {
   "cell_type": "markdown",
   "metadata": {
    "nbpresent": {
     "id": "3e5a5795-6810-4284-b615-427586b04fff"
    },
    "slideshow": {
     "slide_type": "slide"
    }
   },
   "source": [
    "# Algorithm Three - Random Forest\n",
    "\n",
    "![Random Forest](https://media.licdn.com/mpr/mpr/AAEAAQAAAAAAAA1xAAAAJDQwOTViODUwLTg1OGYtNGM5ZS04NmNjLWMwMjJmMWI5NjdhYw.png)"
   ]
  },
  {
   "cell_type": "code",
   "execution_count": 32,
   "metadata": {
    "collapsed": true,
    "nbpresent": {
     "id": "cdcc1804-45eb-4843-9ffc-a885c7cf0fe4"
    },
    "slideshow": {
     "slide_type": "skip"
    }
   },
   "outputs": [],
   "source": [
    "# Import necessary libraries\n",
    "from sklearn.ensemble import RandomForestClassifier"
   ]
  },
  {
   "cell_type": "code",
   "execution_count": 33,
   "metadata": {
    "collapsed": true,
    "nbpresent": {
     "id": "8d38e1e0-b65b-4cb1-b2c1-b7cf87d1e792"
    },
    "slideshow": {
     "slide_type": "slide"
    }
   },
   "outputs": [],
   "source": [
    "# Prep parameters and the Random Forest classifier\n",
    "forest_clf = RandomForestClassifier()\n",
    "forest_parameters = {\n",
    "                        \"max_features\": [2, 5, 10, 'auto'],\n",
    "                        \"n_estimators\": [50, 100, 200],\n",
    "                        \"criterion\": [\"gini\", \"entropy\"],\n",
    "                        \"min_samples_leaf\": [1,2,4,6],\n",
    "                    }\n",
    "                    \n",
    "forest_classifier = GridSearchCV(estimator=forest_clf, param_grid=forest_parameters)"
   ]
  },
  {
   "cell_type": "code",
   "execution_count": 49,
   "metadata": {
    "nbpresent": {
     "id": "9d403943-301a-42b8-a4a9-2c839bde7692"
    },
    "scrolled": false,
    "slideshow": {
     "slide_type": "fragment"
    }
   },
   "outputs": [
    {
     "data": {
      "text/plain": [
       "GridSearchCV(cv=None, error_score='raise',\n",
       "       estimator=RandomForestClassifier(bootstrap=True, class_weight=None, criterion='gini',\n",
       "            max_depth=None, max_features='auto', max_leaf_nodes=None,\n",
       "            min_impurity_split=1e-07, min_samples_leaf=1,\n",
       "            min_samples_split=2, min_weight_fraction_leaf=0.0,\n",
       "            n_estimators=10, n_jobs=1, oob_score=False, random_state=None,\n",
       "            verbose=0, warm_start=False),\n",
       "       fit_params={}, iid=True, n_jobs=1,\n",
       "       param_grid={'max_features': [2, 5, 10, 'auto'], 'criterion': ['gini', 'entropy'], 'n_estimators': [50, 100, 200], 'min_samples_leaf': [1, 2, 4, 6]},\n",
       "       pre_dispatch='2*n_jobs', refit=True, return_train_score=True,\n",
       "       scoring=None, verbose=0)"
      ]
     },
     "execution_count": 49,
     "metadata": {},
     "output_type": "execute_result"
    }
   ],
   "source": [
    "# Train our Random Forest Classifier - This will take very long to run!\n",
    "forest_classifier.fit(X_train, Y_train)"
   ]
  },
  {
   "cell_type": "code",
   "execution_count": 44,
   "metadata": {
    "nbpresent": {
     "id": "e59bd79c-68bb-4c32-8a70-b58c4442dbc3"
    },
    "slideshow": {
     "slide_type": "slide"
    }
   },
   "outputs": [
    {
     "name": "stdout",
     "output_type": "stream",
     "text": [
      "Best score: 0.244509516837\n",
      "Best Max_Features: 2\n",
      "Best N_estimators: 100\n",
      "Best criterion: entropy\n",
      "Best Min_samples_leaf: 4\n"
     ]
    }
   ],
   "source": [
    "# The best parameters with the score:\n",
    "print('Best score:', forest_classifier.best_score_)\n",
    "print('Best Max_Features:', forest_classifier.best_estimator_.max_features)\n",
    "print('Best N_estimators:', forest_classifier.best_estimator_.n_estimators)\n",
    "print('Best criterion:', forest_classifier.best_estimator_.criterion)\n",
    "print('Best Min_samples_leaf:', forest_classifier.best_estimator_.min_samples_leaf)"
   ]
  },
  {
   "cell_type": "code",
   "execution_count": 45,
   "metadata": {
    "nbpresent": {
     "id": "e53fc535-b2ad-4aa3-af8e-96ffe95e1d6d"
    },
    "scrolled": true,
    "slideshow": {
     "slide_type": "fragment"
    }
   },
   "outputs": [
    {
     "data": {
      "text/plain": [
       "0.14705882352941177"
      ]
     },
     "execution_count": 45,
     "metadata": {},
     "output_type": "execute_result"
    }
   ],
   "source": [
    "# Test our trained Random Forest classifier with our test data\n",
    "forest_classifier.score(X_test, Y_test)"
   ]
  },
  {
   "cell_type": "markdown",
   "metadata": {
    "nbpresent": {
     "id": "9c0d7669-3367-410c-9818-b7db0a011aac"
    },
    "slideshow": {
     "slide_type": "fragment"
    }
   },
   "source": [
    "While the training results were marginally better as compared to SVM, the actual results of the test data was actually worse!\n",
    "\n",
    "- SVM: 0.2353\n",
    "- Random Forest: .1471"
   ]
  },
  {
   "cell_type": "markdown",
   "metadata": {
    "nbpresent": {
     "id": "2fc4ee24-ded5-4182-acbd-9a0d3a2a4aba"
    },
    "slideshow": {
     "slide_type": "slide"
    }
   },
   "source": [
    "## Computational Difficulty\n",
    "\n",
    "Our three algorithms had varying results and time to train. Lets take a look at how long each algorithm took to train, with their overall score:"
   ]
  },
  {
   "cell_type": "code",
   "execution_count": 46,
   "metadata": {
    "nbpresent": {
     "id": "1d9bf084-42e6-4526-8b2d-6ac46eb3e1b5"
    },
    "slideshow": {
     "slide_type": "skip"
    }
   },
   "outputs": [
    {
     "name": "stdout",
     "output_type": "stream",
     "text": [
      "Naive Bayes took 0.0024836063385009766 seconds to train.\n"
     ]
    }
   ],
   "source": [
    "import time\n",
    "start_time = time.time()\n",
    "gnb.fit(X_train, Y_train)\n",
    "print(\"Naive Bayes took\", time.time() - start_time, \"seconds to train.\")"
   ]
  },
  {
   "cell_type": "code",
   "execution_count": 47,
   "metadata": {
    "nbpresent": {
     "id": "776bb088-3c61-486f-8035-2b35019f2a36"
    },
    "slideshow": {
     "slide_type": "skip"
    }
   },
   "outputs": [
    {
     "name": "stdout",
     "output_type": "stream",
     "text": [
      "SVM took took 8.379002571105957 seconds to train.\n"
     ]
    }
   ],
   "source": [
    "start_time = time.time()\n",
    "svm_classifier.fit(X_train, Y_train)\n",
    "print(\"SVM took\", time.time() - start_time, \"seconds to train.\")"
   ]
  },
  {
   "cell_type": "code",
   "execution_count": 48,
   "metadata": {
    "nbpresent": {
     "id": "ee8cfedf-5387-46ad-8d30-0ee5655c8c03"
    },
    "slideshow": {
     "slide_type": "skip"
    }
   },
   "outputs": [
    {
     "name": "stdout",
     "output_type": "stream",
     "text": [
      "Random Forest took 62.11705303192139 seconds to train.\n"
     ]
    }
   ],
   "source": [
    "start_time = time.time()\n",
    "forest_classifier.fit(X_train, Y_train)\n",
    "print(\"Random Forest took\", time.time() - start_time, \"seconds to train.\")"
   ]
  },
  {
   "cell_type": "code",
   "execution_count": 4,
   "metadata": {
    "nbpresent": {
     "id": "cd002547-9cb1-411b-a980-5d0a90949195"
    },
    "scrolled": true,
    "slideshow": {
     "slide_type": "slide"
    }
   },
   "outputs": [
    {
     "data": {
      "text/plain": [
       "<matplotlib.axes._subplots.AxesSubplot at 0x1de53493780>"
      ]
     },
     "execution_count": 4,
     "metadata": {},
     "output_type": "execute_result"
    },
    {
     "data": {
      "image/png": "[encoded data removed]",
      "text/plain": [
       "<matplotlib.figure.Figure at 0x1de534ea390>"
      ]
     },
     "metadata": {},
     "output_type": "display_data"
    }
   ],
   "source": [
    "# Visualize results\n",
    "labels = ['Naive Bayes', 'SVM', 'Random Forest']\n",
    "scores = [0.092, 0.235, 0.147]\n",
    "train_time = [0.002, 8.379, 62.117]\n",
    "\n",
    "fig, axs = plt.subplots(nrows=1, ncols=2)\n",
    "\n",
    "sns.set(style=\"darkgrid\", context=\"talk\")\n",
    "sns.barplot(x=labels, y=scores, ax=axs[0])\n",
    "sns.barplot(x=labels, y=train_time, ax=axs[1])"
   ]
  },
  {
   "cell_type": "markdown",
   "metadata": {
    "nbpresent": {
     "id": "8a011c73-7471-4140-a4cd-bd85170bb102"
    },
    "slideshow": {
     "slide_type": "subslide"
    }
   },
   "source": [
    "# Algorithm Conclusions\n",
    "\n",
    "There is a signficant performance boost when comparing SVM to Naives Bayes. While Random Forest is undoubtly the most computationally expensive, it did not performance as well as SVM.\n",
    "\n",
    "These models give a classic example and lesson on valuing difficulty vs. results.\n",
    "\n",
    "- Naives Bayes algorithm took about 0.002 seconds\n",
    "- Random Forest took a massive 62 seconds to compute!\n",
    "- This dataset was extremely tiny, in a real-world situation, these models and features would need to be heavily optimized\n",
    "\n",
    "In addition, our training and testing sets were extremely tiny! \n",
    "\n",
    "- If you can recall, there are about 17 different types and under 800 observations split between them\n",
    "- Some types had very little data to train on - this resulted in extreme scores when re-running the models (in some cases, Random Forest beat SVM)."
   ]
  },
  {
   "cell_type": "markdown",
   "metadata": {
    "slideshow": {
     "slide_type": "skip"
    }
   },
   "source": [
    "Special note: To present your Jupyter notebook in a HTML presentation format, the following code should work (using my directory):\n",
    "\n",
    "**jupyter nbconvert --to html \"C:/Users/Kevin/Dropbox/Brainstation - Project/Pokemon_Jupyter.ipynb\" --to slides --post serve**"
   ]
  }
 ],
 "metadata": {
  "anaconda-cloud": {},
  "kernelspec": {
   "display_name": "Python 3",
   "language": "python",
   "name": "python3"
  },
  "language_info": {
   "codemirror_mode": {
    "name": "ipython",
    "version": 3
   },
   "file_extension": ".py",
   "mimetype": "text/x-python",
   "name": "python",
   "nbconvert_exporter": "python",
   "pygments_lexer": "ipython3",
   "version": "3.6.1"
  },
  "nbpresent": {
   "slides": {
    "0e4e3e3c-6ec2-47ac-ba26-56ca0865df43": {
     "id": "0e4e3e3c-6ec2-47ac-ba26-56ca0865df43",
     "prev": "6845185d-fa3f-498c-8680-f41177195f41",
     "regions": {
      "6533fb9f-f2f7-4368-a7e7-0abcef64c1ce": {
       "attrs": {
        "height": 0.41538461538461546,
        "width": 0.9300435413642961,
        "x": 0.02812046444121926,
        "y": 0.41349782293178516
       },
       "content": {
        "cell": "e9d6e716-39f2-4af0-8792-352830936f0e",
        "part": "source"
       },
       "id": "6533fb9f-f2f7-4368-a7e7-0abcef64c1ce"
      },
      "66ad902a-9dd0-4cea-97c3-d0faebe1b04c": {
       "attrs": {
        "height": 0.1875181422351234,
        "width": 0.9365746961795711,
        "x": 0.02632438316400587,
        "y": 0.06371552975326561
       },
       "content": {
        "cell": "350311c5-d9c4-4f81-8470-2b81bc80d25e",
        "part": "source"
       },
       "id": "66ad902a-9dd0-4cea-97c3-d0faebe1b04c"
      }
     }
    },
    "1c884878-71b6-4664-a614-fff4f654a433": {
     "id": "1c884878-71b6-4664-a614-fff4f654a433",
     "prev": "59e1fc6b-5eb1-4316-af3f-976de50747e8",
     "regions": {
      "fe72a38e-54ae-465a-877c-98dcdb1ca6a0": {
       "attrs": {
        "height": 1.2844702467343976,
        "width": 1,
        "x": 0,
        "y": 0.005805515239477504
       },
       "content": {
        "cell": "66045ace-ee21-4811-949e-7babbcebde96",
        "part": "source"
       },
       "id": "fe72a38e-54ae-465a-877c-98dcdb1ca6a0"
      }
     }
    },
    "2b03da45-6184-4e0d-9131-2f1a1803de8c": {
     "id": "2b03da45-6184-4e0d-9131-2f1a1803de8c",
     "prev": "1c884878-71b6-4664-a614-fff4f654a433",
     "regions": {
      "68551cfa-fdf7-400a-b60f-2170a22e673c": {
       "attrs": {
        "height": 1,
        "width": 1,
        "x": 0,
        "y": 0
       },
       "content": {
        "cell": "0aebf049-7163-427e-a333-ca5781c9a0c9",
        "part": "source"
       },
       "id": "68551cfa-fdf7-400a-b60f-2170a22e673c"
      }
     }
    },
    "2d583051-ce4d-47ba-ae89-5bb7f8f35d3f": {
     "id": "2d583051-ce4d-47ba-ae89-5bb7f8f35d3f",
     "prev": "89a1f51e-cf01-41d8-8e88-a8b85b17b8ea",
     "regions": {
      "15d82cec-38b1-431b-95f6-b941022a26a0": {
       "attrs": {
        "height": 0.4,
        "width": 0.4,
        "x": 0.5,
        "y": 0.1
       },
       "content": {
        "cell": "9d403943-301a-42b8-a4a9-2c839bde7692",
        "part": "whole"
       },
       "id": "15d82cec-38b1-431b-95f6-b941022a26a0"
      },
      "21c2f706-cf7b-450a-8bc8-48435b141f50": {
       "attrs": {
        "height": 0.4,
        "width": 0.4,
        "x": 0.5,
        "y": 0.5
       },
       "content": {
        "cell": "e53fc535-b2ad-4aa3-af8e-96ffe95e1d6d",
        "part": "whole"
       },
       "id": "21c2f706-cf7b-450a-8bc8-48435b141f50"
      },
      "5f4136f5-2c17-495e-8071-bdc5415709f6": {
       "attrs": {
        "height": 0.4,
        "width": 0.4,
        "x": 0.1,
        "y": 0.1
       },
       "content": {
        "cell": "8d38e1e0-b65b-4cb1-b2c1-b7cf87d1e792",
        "part": "whole"
       },
       "id": "5f4136f5-2c17-495e-8071-bdc5415709f6"
      },
      "f3c5cc84-4ac5-4cc8-b010-f1a6e02f7dad": {
       "attrs": {
        "height": 0.4,
        "width": 0.4,
        "x": 0.1,
        "y": 0.5
       },
       "content": {
        "cell": "e59bd79c-68bb-4c32-8a70-b58c4442dbc3",
        "part": "whole"
       },
       "id": "f3c5cc84-4ac5-4cc8-b010-f1a6e02f7dad"
      }
     }
    },
    "2e403cca-6918-4f0f-b4ed-c7f44ad9a38c": {
     "id": "2e403cca-6918-4f0f-b4ed-c7f44ad9a38c",
     "prev": "5c02267e-ff5f-40f9-b802-32dd8dc008b1",
     "regions": {
      "c88612ce-7b1e-48ec-83bb-8986f4936b5c": {
       "attrs": {
        "height": 1,
        "width": 1,
        "x": 0,
        "y": 0
       },
       "content": {
        "cell": "6d2ee07c-71ec-45ba-93c7-bcad65559760",
        "part": "whole"
       },
       "id": "c88612ce-7b1e-48ec-83bb-8986f4936b5c"
      }
     }
    },
    "2f781bfd-d610-49c9-a32a-05a74305ef22": {
     "id": "2f781bfd-d610-49c9-a32a-05a74305ef22",
     "prev": "dc271539-348f-4280-a4ce-982c617b6f33",
     "regions": {
      "57995b3b-d197-4310-a8c9-2419af2a88c6": {
       "attrs": {
        "height": 0.16139332365747464,
        "width": 0.9169810822463346,
        "x": 0.05,
        "y": 0.1
       },
       "content": {
        "cell": "17356041-c5ec-45c2-9605-d1d773eddaf1",
        "part": "whole"
       },
       "id": "57995b3b-d197-4310-a8c9-2419af2a88c6"
      },
      "bae3af99-e560-4c8e-863c-aa1daeb6ffe7": {
       "attrs": {
        "height": 0.6156748911465894,
        "width": 0.8884071117561686,
        "x": 0.06975689404934679,
        "y": 0.28722786647314946
       },
       "content": {
        "cell": "4d5cb22e-c41b-4200-b73e-b07c5d381fe3",
        "part": "whole"
       },
       "id": "bae3af99-e560-4c8e-863c-aa1daeb6ffe7"
      }
     }
    },
    "384e6ba8-5de6-478e-bb5c-9fe098cb6036": {
     "id": "384e6ba8-5de6-478e-bb5c-9fe098cb6036",
     "prev": "41f5bd11-e53b-47fb-918b-5af1532586a1",
     "regions": {
      "1a765fd0-28d2-4288-8723-2fc1e9aeffb1": {
       "attrs": {
        "height": 0.2525399129172714,
        "width": 0.32238751814223515,
        "x": 0.3151306240928882,
        "y": 0.3439767779390421
       },
       "content": {
        "cell": "cee09356-5a73-4d8d-a3d5-3c0217648c96",
        "part": "source"
       },
       "id": "1a765fd0-28d2-4288-8723-2fc1e9aeffb1"
      }
     }
    },
    "41f5bd11-e53b-47fb-918b-5af1532586a1": {
     "id": "41f5bd11-e53b-47fb-918b-5af1532586a1",
     "layout": "manual",
     "prev": "2b03da45-6184-4e0d-9131-2f1a1803de8c",
     "regions": {
      "6b7fe5c5-f254-4efc-b020-9fc45eb98cff": {
       "attrs": {
        "height": 0.32946298984034833,
        "treemap:weight": 1,
        "width": 0.39096516690856314,
        "x": 0.2873730043541363,
        "y": 0.309143686502177
       },
       "content": {
        "cell": "e327f260-0bd3-4521-9d8b-aad846c65b28",
        "part": "whole"
       },
       "id": "6b7fe5c5-f254-4efc-b020-9fc45eb98cff"
      }
     }
    },
    "4251f58c-fb0f-4311-bfae-e03d88beb9e4": {
     "id": "4251f58c-fb0f-4311-bfae-e03d88beb9e4",
     "prev": "384e6ba8-5de6-478e-bb5c-9fe098cb6036",
     "regions": {
      "80ef9a42-72c3-456f-8501-0d650e1ffa03": {
       "attrs": {
        "height": 0.26705370101596515,
        "width": 0.3803519593613933,
        "x": 0.31594702467343977,
        "y": 0.33962264150943394
       },
       "content": {
        "cell": "93192e8c-1472-4b63-a7df-1d274c0fce0b",
        "part": "source"
       },
       "id": "80ef9a42-72c3-456f-8501-0d650e1ffa03"
      }
     }
    },
    "43416f5c-fd1a-491a-8b75-0afb55885f85": {
     "id": "43416f5c-fd1a-491a-8b75-0afb55885f85",
     "prev": "cafb87fc-38b3-4ed6-afa1-9d2a913fb22a",
     "regions": {
      "095e3b1d-b6db-44ed-95b5-014b6b60d200": {
       "attrs": {
        "height": 0.4,
        "width": 0.4,
        "x": 0.5,
        "y": 0.1
       },
       "content": {
        "cell": "6a6c4330-caa5-4c67-b6cc-b69e160b9f21",
        "part": "whole"
       },
       "id": "095e3b1d-b6db-44ed-95b5-014b6b60d200"
      },
      "6fd19cb9-1da8-4fe7-a8ce-a7f1189c537a": {
       "attrs": {
        "height": 0.4,
        "width": 0.4,
        "x": 0.1,
        "y": 0.1
       },
       "content": {
        "cell": "0de74a8e-e385-4948-b6b6-b52039a317ef",
        "part": "whole"
       },
       "id": "6fd19cb9-1da8-4fe7-a8ce-a7f1189c537a"
      },
      "a24a3d7e-176c-4e6c-bb31-23158f5b6363": {
       "attrs": {
        "height": 0.4,
        "width": 0.4,
        "x": 0.5,
        "y": 0.5
       },
       "content": {
        "cell": "5e7b53eb-c1a5-4271-a886-a12c73fd25fd",
        "part": "whole"
       },
       "id": "a24a3d7e-176c-4e6c-bb31-23158f5b6363"
      },
      "dbbb37f1-05f7-43bd-924c-ec9290c85530": {
       "attrs": {
        "height": 0.4,
        "width": 0.4,
        "x": 0.1,
        "y": 0.5
       },
       "content": {
        "cell": "5561b7c8-b265-4c94-8830-ebf711c139b6",
        "part": "whole"
       },
       "id": "dbbb37f1-05f7-43bd-924c-ec9290c85530"
      }
     }
    },
    "4e792b80-dfe5-4512-bb9b-57c0f58680f2": {
     "id": "4e792b80-dfe5-4512-bb9b-57c0f58680f2",
     "prev": "7c4c5c96-2b4c-48b5-9cc4-28012423c9c3",
     "regions": {
      "5997de26-e3d2-47d4-bb85-2d14f7eedc0f": {
       "attrs": {
        "height": 0.3251088534107402,
        "width": 0.3828011611030479,
        "x": 0.2939042089985485,
        "y": 0.32510885341074014
       },
       "content": {
        "cell": "79af7110-bab1-4248-aed5-bd0184558555",
        "part": "source"
       },
       "id": "5997de26-e3d2-47d4-bb85-2d14f7eedc0f"
      }
     }
    },
    "59e1fc6b-5eb1-4316-af3f-976de50747e8": {
     "id": "59e1fc6b-5eb1-4316-af3f-976de50747e8",
     "prev": "0e4e3e3c-6ec2-47ac-ba26-56ca0865df43",
     "regions": {
      "4e595197-8d6f-4746-8db2-6a528cada585": {
       "attrs": {
        "height": 1,
        "width": 1,
        "x": 0,
        "y": 0
       },
       "content": {
        "cell": "56094b70-c938-4c59-aeb0-33089e62d424",
        "part": "whole"
       },
       "id": "4e595197-8d6f-4746-8db2-6a528cada585"
      }
     }
    },
    "5c02267e-ff5f-40f9-b802-32dd8dc008b1": {
     "id": "5c02267e-ff5f-40f9-b802-32dd8dc008b1",
     "prev": "d618dad9-c655-4cc7-b1fd-b0124836611a",
     "regions": {
      "628c86a5-f242-4e5a-a857-f0e875dfcc71": {
       "attrs": {
        "height": 1,
        "width": 1,
        "x": 0,
        "y": 0
       },
       "content": {
        "cell": "a35780a0-fbd4-40a2-8a66-c175dc81f716",
        "part": "whole"
       },
       "id": "628c86a5-f242-4e5a-a857-f0e875dfcc71"
      }
     }
    },
    "62e7664a-f996-42c0-8418-b0abe13a5680": {
     "id": "62e7664a-f996-42c0-8418-b0abe13a5680",
     "prev": "b4658084-c3c1-46e1-85db-c2c3820f371e",
     "regions": {
      "2c8258f0-6925-4f42-8d6c-f4188ef28eb6": {
       "attrs": {
        "height": 0.5689404934687954,
        "width": 0.6538461538461539,
        "x": 0.17226052249637155,
        "y": 0.33962264150943394
       },
       "content": {
        "cell": "c85d105d-10f3-413a-8f38-a951f106039d",
        "part": "source"
       },
       "id": "2c8258f0-6925-4f42-8d6c-f4188ef28eb6"
      },
      "2cc50cf3-0884-428c-9f46-d70e7df08430": {
       "attrs": {
        "height": 0.081567489114659,
        "width": 0.712645137880987,
        "x": 0.14490203193033377,
        "y": 0.12322206095791002
       },
       "content": {
        "cell": "ea34e7ec-81b7-45b4-9b1e-6a086fc6ffcf",
        "part": "source"
       },
       "id": "2cc50cf3-0884-428c-9f46-d70e7df08430"
      }
     }
    },
    "63f1b11b-4e1b-44fb-8144-37ac0d046db6": {
     "id": "63f1b11b-4e1b-44fb-8144-37ac0d046db6",
     "prev": "c7647c5f-3319-443a-b65c-f715ccaf861b",
     "regions": {
      "061c9b8b-9080-4e40-b5fd-7af8b29687fe": {
       "attrs": {
        "height": 0.4,
        "width": 0.4,
        "x": 0.1,
        "y": 0.1
       },
       "content": {
        "cell": "6bd6bc64-b765-47a5-8c37-75e0c271bdaa",
        "part": "whole"
       },
       "id": "061c9b8b-9080-4e40-b5fd-7af8b29687fe"
      },
      "09f063ac-c62b-4f25-b508-a51ba3d63263": {
       "attrs": {
        "height": 0.4,
        "width": 0.4,
        "x": 0.5,
        "y": 0.5
       },
       "content": {
        "cell": "f159de30-9f83-4af9-8859-b66197787467",
        "part": "whole"
       },
       "id": "09f063ac-c62b-4f25-b508-a51ba3d63263"
      },
      "595a63c5-2e36-4965-a31a-ad6a7831914a": {
       "attrs": {
        "height": 0.4,
        "width": 0.4,
        "x": 0.1,
        "y": 0.5
       },
       "content": {
        "cell": "7c32a5ef-61ae-4d07-9807-5a98893f7241",
        "part": "whole"
       },
       "id": "595a63c5-2e36-4965-a31a-ad6a7831914a"
      },
      "baa6e3f9-ae5b-499b-9a95-72e64a349e66": {
       "attrs": {
        "height": 0.4,
        "width": 0.4,
        "x": 0.5,
        "y": 0.1
       },
       "content": {
        "cell": "f6a5d9a1-a9cd-42be-a881-9f0fb39b4e2f",
        "part": "whole"
       },
       "id": "baa6e3f9-ae5b-499b-9a95-72e64a349e66"
      }
     }
    },
    "6845185d-fa3f-498c-8680-f41177195f41": {
     "id": "6845185d-fa3f-498c-8680-f41177195f41",
     "prev": "c1914153-fa21-45b5-be6b-98c68d65d590",
     "regions": {
      "16ff504b-3ec7-41d1-8a83-5015d10fdad9": {
       "attrs": {
        "height": 0.7230769230769232,
        "width": 0.9912735849056604,
        "x": 0.0036284470246735426,
        "y": 0.25674891146589257
       },
       "content": {
        "cell": "595234b7-5196-4368-8699-7fbf4d2ff5fd",
        "part": "whole"
       },
       "id": "16ff504b-3ec7-41d1-8a83-5015d10fdad9"
      },
      "9cbf2cbe-1d60-4ece-91c5-9aff30b154e0": {
       "attrs": {
        "height": 0.17300435413642964,
        "width": 0.9912735350765234,
        "x": 0.004281567489114724,
        "y": 0.008563134978229326
       },
       "content": {
        "cell": "02f16c9d-1d43-4a86-bf5f-2bce580f2e49",
        "part": "whole"
       },
       "id": "9cbf2cbe-1d60-4ece-91c5-9aff30b154e0"
      }
     }
    },
    "7022e46f-cbc2-4e88-9f6f-e37c324d128e": {
     "id": "7022e46f-cbc2-4e88-9f6f-e37c324d128e",
     "prev": "62e7664a-f996-42c0-8418-b0abe13a5680",
     "regions": {
      "0b2b5d0a-3333-41b5-8a6c-85856e122b78": {
       "attrs": {
        "height": 0.4,
        "width": 0.4,
        "x": 0.1,
        "y": 0.1
       },
       "content": {
        "cell": "0623a639-2ae4-4d8d-a53b-569a69ee570d",
        "part": "whole"
       },
       "id": "0b2b5d0a-3333-41b5-8a6c-85856e122b78"
      },
      "2abf52b5-7a33-409d-a94b-3a291d122f40": {
       "attrs": {
        "height": 0.4,
        "width": 0.4,
        "x": 0.5,
        "y": 0.5
       },
       "content": {
        "cell": "1aa5f033-1739-466f-a070-ce61a38d23e2",
        "part": "whole"
       },
       "id": "2abf52b5-7a33-409d-a94b-3a291d122f40"
      },
      "86681bd0-17c9-4ef1-986b-52d8b2ee3715": {
       "attrs": {
        "height": 0.4,
        "width": 0.4,
        "x": 0.1,
        "y": 0.5
       },
       "content": {
        "cell": "b4dc5228-18a5-4f28-9b42-109103ea56d5",
        "part": "whole"
       },
       "id": "86681bd0-17c9-4ef1-986b-52d8b2ee3715"
      },
      "9c6aa56a-82b0-4e99-b1c8-f1c279dfabe5": {
       "attrs": {
        "height": 0.4,
        "width": 0.4,
        "x": 0.5,
        "y": 0.1
       },
       "content": {
        "cell": "8fcd2d68-c17d-4827-a1a4-4d2b476b9216",
        "part": "whole"
       },
       "id": "9c6aa56a-82b0-4e99-b1c8-f1c279dfabe5"
      }
     },
     "theme": null
    },
    "7c4c5c96-2b4c-48b5-9cc4-28012423c9c3": {
     "id": "7c4c5c96-2b4c-48b5-9cc4-28012423c9c3",
     "prev": "4251f58c-fb0f-4311-bfae-e03d88beb9e4",
     "regions": {
      "9f92ba40-a07d-4ca0-9d35-02ec88e206a5": {
       "attrs": {
        "height": 0.3251088534107402,
        "width": 0.4268867924528302,
        "x": 0.2816582002902758,
        "y": 0.297532656023222
       },
       "content": {
        "cell": "39510825-3652-4ece-95e0-0464edb63652",
        "part": "source"
       },
       "id": "9f92ba40-a07d-4ca0-9d35-02ec88e206a5"
      }
     }
    },
    "89a1f51e-cf01-41d8-8e88-a8b85b17b8ea": {
     "id": "89a1f51e-cf01-41d8-8e88-a8b85b17b8ea",
     "prev": "a0a7cde7-64e7-47a4-8322-2c6f4bb8bdef",
     "regions": {
      "62eac529-fa51-4c33-98fc-66d10da158f4": {
       "attrs": {
        "height": 0.7242380261248186,
        "width": 0.710177793904209,
        "x": 0.1567489114658926,
        "y": 0.13497822931785197
       },
       "content": {
        "cell": "3e5a5795-6810-4284-b615-427586b04fff",
        "part": "whole"
       },
       "id": "62eac529-fa51-4c33-98fc-66d10da158f4"
      }
     }
    },
    "92abda45-f3c5-45bc-a47a-b47c939e5fa4": {
     "id": "92abda45-f3c5-45bc-a47a-b47c939e5fa4",
     "prev": "2f781bfd-d610-49c9-a32a-05a74305ef22",
     "regions": {
      "a85dcd19-b56a-4980-ba92-8e59d7fd1cb1": {
       "attrs": {
        "height": 0.7706821480406386,
        "width": 0.8114114658925979,
        "x": 0.0955188679245283,
        "y": 0.11611030478955008
       },
       "content": {
        "cell": "3edcc4be-514e-4554-967c-ce1352b46519",
        "part": "whole"
       },
       "id": "a85dcd19-b56a-4980-ba92-8e59d7fd1cb1"
      }
     }
    },
    "a0a7cde7-64e7-47a4-8322-2c6f4bb8bdef": {
     "id": "a0a7cde7-64e7-47a4-8322-2c6f4bb8bdef",
     "prev": "63f1b11b-4e1b-44fb-8144-37ac0d046db6",
     "regions": {
      "2760d619-c351-4ac0-8f28-1532efa43ac6": {
       "attrs": {
        "height": 0.5091155086676342,
        "width": 0.6260885341074021,
        "x": 0.19348693759071117,
        "y": 0.24705285127431062
       },
       "content": {
        "cell": "ff38f655-edc5-412f-9172-7d2924b9e9d5",
        "part": "whole"
       },
       "id": "2760d619-c351-4ac0-8f28-1532efa43ac6"
      }
     }
    },
    "b4658084-c3c1-46e1-85db-c2c3820f371e": {
     "id": "b4658084-c3c1-46e1-85db-c2c3820f371e",
     "prev": "f01febf7-0c15-4da2-9d21-d568323a7817",
     "regions": {
      "e548ad8a-f5a2-4913-8135-cabbe1b9b30d": {
       "attrs": {
        "height": 1,
        "width": 1,
        "x": 0,
        "y": 0
       },
       "content": {
        "cell": "ad2dfaa3-3791-4a6b-8146-60be041c941e",
        "part": "whole"
       },
       "id": "e548ad8a-f5a2-4913-8135-cabbe1b9b30d"
      }
     }
    },
    "c1914153-fa21-45b5-be6b-98c68d65d590": {
     "id": "c1914153-fa21-45b5-be6b-98c68d65d590",
     "prev": "92abda45-f3c5-45bc-a47a-b47c939e5fa4",
     "regions": {
      "0c653710-0615-47c0-811c-19d817a66dc2": {
       "attrs": {
        "height": 0.8,
        "width": 0.45,
        "x": 0.5,
        "y": 0.1
       },
       "content": {
        "cell": "b184abe6-5432-40df-87f3-6f00fb254649",
        "part": "whole"
       },
       "id": "0c653710-0615-47c0-811c-19d817a66dc2"
      },
      "b704d9fc-1753-4705-8c8c-6e9d96d52b52": {
       "attrs": {
        "height": 0.8,
        "width": 0.45,
        "x": 0.05,
        "y": 0.1
       },
       "content": {
        "cell": "1a279ab4-081e-4a41-b75b-9715ab1f0ccb",
        "part": "whole"
       },
       "id": "b704d9fc-1753-4705-8c8c-6e9d96d52b52"
      }
     }
    },
    "c629591a-c3cb-40b0-b2d6-41f391ec1bda": {
     "id": "c629591a-c3cb-40b0-b2d6-41f391ec1bda",
     "prev": "d68adc2f-cd65-47d1-a078-53072a347968",
     "regions": {
      "38651987-5f25-4af8-b75d-6dfde4e36a98": {
       "attrs": {
        "height": 0.602322206095791,
        "width": 0.5909833091436865,
        "x": 0.2114477503628447,
        "y": 0.20029027576197386
       },
       "content": {
        "cell": "8a011c73-7471-4140-a4cd-bd85170bb102",
        "part": "whole"
       },
       "id": "38651987-5f25-4af8-b75d-6dfde4e36a98"
      }
     }
    },
    "c7647c5f-3319-443a-b65c-f715ccaf861b": {
     "id": "c7647c5f-3319-443a-b65c-f715ccaf861b",
     "prev": "43416f5c-fd1a-491a-8b75-0afb55885f85",
     "regions": {
      "ec3f4685-e5ab-4e72-8289-41ee4a240baf": {
       "attrs": {
        "height": 0.6806966618287373,
        "width": 0.6595609579100146,
        "x": 0.18858853410740203,
        "y": 0.14804063860667635
       },
       "content": {
        "cell": "5e9945a9-4173-4c62-8366-59896ccaa965",
        "part": "whole"
       },
       "id": "ec3f4685-e5ab-4e72-8289-41ee4a240baf"
      }
     }
    },
    "cafb87fc-38b3-4ed6-afa1-9d2a913fb22a": {
     "id": "cafb87fc-38b3-4ed6-afa1-9d2a913fb22a",
     "prev": "7022e46f-cbc2-4e88-9f6f-e37c324d128e",
     "regions": {
      "aecb3aff-28a7-4b3f-9217-50badb4d067d": {
       "attrs": {
        "height": 0.6110304789550073,
        "width": 0.6473149492017417,
        "x": 0.1706277213352685,
        "y": 0.1741654571843251
       },
       "content": {
        "cell": "41c954b1-31e1-4d3b-89c5-44519e919bc6",
        "part": "source"
       },
       "id": "aecb3aff-28a7-4b3f-9217-50badb4d067d"
      }
     }
    },
    "d618dad9-c655-4cc7-b1fd-b0124836611a": {
     "id": "d618dad9-c655-4cc7-b1fd-b0124836611a",
     "prev": "4e792b80-dfe5-4512-bb9b-57c0f58680f2",
     "regions": {
      "46cc9c13-e25f-4599-8477-6d315de54d38": {
       "attrs": {
        "height": 0.41799709724238027,
        "width": 0.47913642960812775,
        "x": 0.25471698113207547,
        "y": 0.281567489114659
       },
       "content": {
        "cell": "a1d32325-8011-46f0-9b3a-3bb1577d52c9",
        "part": "source"
       },
       "id": "46cc9c13-e25f-4599-8477-6d315de54d38"
      }
     }
    },
    "d68adc2f-cd65-47d1-a078-53072a347968": {
     "id": "d68adc2f-cd65-47d1-a078-53072a347968",
     "prev": "2d583051-ce4d-47ba-ae89-5bb7f8f35d3f",
     "regions": {
      "cd48da10-dcd1-4b82-97c6-a779e65fe7f1": {
       "attrs": {
        "height": 1,
        "width": 1,
        "x": 0,
        "y": 0
       },
       "content": {
        "cell": "cd002547-9cb1-411b-a980-5d0a90949195",
        "part": "whole"
       },
       "id": "cd48da10-dcd1-4b82-97c6-a779e65fe7f1"
      }
     }
    },
    "dc271539-348f-4280-a4ce-982c617b6f33": {
     "id": "dc271539-348f-4280-a4ce-982c617b6f33",
     "prev": null,
     "regions": {
      "168ea28c-e963-4fd1-97b1-6517f884c5a7": {
       "attrs": {
        "height": 1,
        "width": 1,
        "x": 0,
        "y": 0
       },
       "content": {
        "cell": "3561e198-2627-4e7d-95ee-513eb40be74a",
        "part": "whole"
       },
       "id": "168ea28c-e963-4fd1-97b1-6517f884c5a7"
      }
     }
    },
    "f01febf7-0c15-4da2-9d21-d568323a7817": {
     "id": "f01febf7-0c15-4da2-9d21-d568323a7817",
     "prev": "2e403cca-6918-4f0f-b4ed-c7f44ad9a38c",
     "regions": {
      "39d12366-1773-4e20-9373-9c3888d78a10": {
       "attrs": {
        "height": 1,
        "width": 1,
        "x": 0,
        "y": 0
       },
       "content": {
        "cell": "65d4f3df-c0d4-40aa-8c22-e117088623cb",
        "part": "whole"
       },
       "id": "39d12366-1773-4e20-9373-9c3888d78a10"
      }
     }
    }
   },
   "themes": {}
  }
 },
 "nbformat": 4,
 "nbformat_minor": 2
}
